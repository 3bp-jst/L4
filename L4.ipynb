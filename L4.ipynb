{
 "cells": [
  {
   "cell_type": "code",
   "execution_count": 24,
   "metadata": {},
   "outputs": [],
   "source": [
    "using DynamicalSystems\n",
    "using PyPlot\n",
    "using NLsolve"
   ]
  },
  {
   "cell_type": "code",
   "execution_count": 25,
   "metadata": {},
   "outputs": [
    {
     "data": {
      "text/plain": [
       "r3bpproblem (generic function with 1 method)"
      ]
     },
     "execution_count": 25,
     "metadata": {},
     "output_type": "execute_result"
    }
   ],
   "source": [
    "function r3bpproblem(u,p,t)\n",
    "    mu = p[1]\n",
    "    du1 = u[3]+u[2]\n",
    "    du2 = u[4]-u[1]\n",
    "    du3=u[4]-(1-mu)*(u[1]+mu)/((u[1]+mu)^2+u[2]^2)^(3/2)-mu*(u[1]+mu-1)/((u[1]+mu-1)^2+u[2]^2)^(3/2)\n",
    "    du4=-u[3]-(1-mu)*u[2]/((u[1]+mu)^2+u[2]^2)^(3/2)-mu*u[2]/((u[1]+mu-1)^2+u[2]^2)^(3/2)\n",
    "    return SVector{4}(du1, du2, du3, du4)\n",
    "end"
   ]
  },
  {
   "cell_type": "code",
   "execution_count": 26,
   "metadata": {},
   "outputs": [
    {
     "data": {
      "text/plain": [
       "4-dimensional continuous dynamical system\n",
       " state:       [0.49, 0.866025, -0.866025, 0.49]\n",
       " rule f:      r3bpproblem\n",
       " in-place?    false\n",
       " jacobian:    ForwardDiff\n",
       " parameters:  [0.01]"
      ]
     },
     "execution_count": 26,
     "metadata": {},
     "output_type": "execute_result"
    }
   ],
   "source": [
    "p=[0.01]\n",
    "u0 = [0.5-p[1], sqrt(3)/2, -sqrt(3)/2, 0.5-p[1]]\n",
    "r3bp = ContinuousDynamicalSystem(r3bpproblem,u0,p)"
   ]
  },
  {
   "cell_type": "code",
   "execution_count": 27,
   "metadata": {},
   "outputs": [
    {
     "data": {
      "text/plain": [
       "-1.5950500000000003"
      ]
     },
     "execution_count": 27,
     "metadata": {},
     "output_type": "execute_result"
    }
   ],
   "source": [
    "E=-3/2+1/2*p[1]-1/2*p[1]^2-0.1"
   ]
  },
  {
   "cell_type": "code",
   "execution_count": 28,
   "metadata": {},
   "outputs": [
    {
     "data": {
      "text/plain": [
       "nls (generic function with 1 method)"
      ]
     },
     "execution_count": 28,
     "metadata": {},
     "output_type": "execute_result"
    }
   ],
   "source": [
    "function nls(func, params...; ini = [0.0])\n",
    "    if typeof(ini) <: Number\n",
    "        r = nlsolve((vout,vin)->vout[1]=func(vin[1],params...), [ini])\n",
    "        v = r.zero[1]\n",
    "    else\n",
    "        r = nlsolve((vout,vin)->vout .= func(vin,params...), ini)\n",
    "        v = r.zero\n",
    "    end\n",
    "    return v, r.f_converged\n",
    "end"
   ]
  },
  {
   "cell_type": "code",
   "execution_count": 35,
   "metadata": {},
   "outputs": [
    {
     "data": {
      "text/plain": [
       "21-element Vector{Float64}:\n",
       " 0.48\n",
       " 0.481\n",
       " 0.482\n",
       " 0.483\n",
       " 0.484\n",
       " 0.485\n",
       " 0.486\n",
       " 0.487\n",
       " 0.488\n",
       " 0.489\n",
       " 0.49\n",
       " 0.491\n",
       " 0.492\n",
       " 0.493\n",
       " 0.494\n",
       " 0.495\n",
       " 0.496\n",
       " 0.497\n",
       " 0.498\n",
       " 0.499\n",
       " 0.5"
      ]
     },
     "execution_count": 35,
     "metadata": {},
     "output_type": "execute_result"
    }
   ],
   "source": [
    "K=10\n",
    "x=[(0.5-p[1])+i/1000 for i in -K:K]\n",
    "#3^{-1/3} =.693361274=がL点"
   ]
  },
  {
   "cell_type": "code",
   "execution_count": 36,
   "metadata": {},
   "outputs": [
    {
     "data": {
      "text/plain": [
       "f (generic function with 1 method)"
      ]
     },
     "execution_count": 36,
     "metadata": {},
     "output_type": "execute_result"
    }
   ],
   "source": [
    "f(P, X)=(sqrt(3)/2)^2/2+1/2*P^2-(sqrt(3)/2)^2-X*P-(1-p[1])/((X+p[1])^2+(sqrt(3)/2)^2)^(1/2)-p[1]/((X+p[1]-1)^2+(sqrt(3)/2)^2)^(1/2)-E"
   ]
  },
  {
   "cell_type": "code",
   "execution_count": 37,
   "metadata": {},
   "outputs": [],
   "source": [
    "XX=zeros(Float64, K)\n",
    "for i in 1:K\n",
    "    SX=nls(f, x[i],ini=0.5+p[1])\n",
    "    XX[i]=SX[1]\n",
    "end"
   ]
  },
  {
   "cell_type": "code",
   "execution_count": null,
   "metadata": {},
   "outputs": [],
   "source": [
    "plane = (2, sqrt(3)/2)\n",
    "d=100\n",
    "fig = figure()\n",
    "#xlim(0.5-p[1]-d, 0.5-p[1]+d)\n",
    "#ylim(-sqrt(3)/2-d, -sqrt(3)/2+d)\n",
    "\n",
    "\n",
    "ps=[]\n",
    "for i in 1:K-1\n",
    "    u0=[x[i],sqrt(3)/2,-sqrt(3)/2,XX[i]]\n",
    "    psos = poincaresos(r3bp, plane, 1000000.0; u0 = u0)\n",
    "    scatter(psos[:, 1], psos[:, 3], s = 2.0)\n",
    "    scatter(0.5-p[1], -sqrt(3)/2, s = 50.0)\n",
    "end\n",
    "xlabel(\"\\$q_1\\$\"); ylabel(\"\\$p_1\\$\")\n",
    "fig.tight_layout(pad=0.3);"
   ]
  },
  {
   "cell_type": "code",
   "execution_count": null,
   "metadata": {},
   "outputs": [],
   "source": []
  },
  {
   "cell_type": "code",
   "execution_count": 33,
   "metadata": {},
   "outputs": [
    {
     "data": {
      "text/plain": [
       "21-element Vector{Float64}:\n",
       " 0.489\n",
       " 0.4891\n",
       " 0.48919999999999997\n",
       " 0.4893\n",
       " 0.4894\n",
       " 0.4895\n",
       " 0.4896\n",
       " 0.48969999999999997\n",
       " 0.4898\n",
       " 0.4899\n",
       " 0.49\n",
       " 0.4901\n",
       " 0.49019999999999997\n",
       " 0.4903\n",
       " 0.4904\n",
       " 0.4905\n",
       " 0.4906\n",
       " 0.49069999999999997\n",
       " 0.4908\n",
       " 0.4909\n",
       " 0.491"
      ]
     },
     "execution_count": 33,
     "metadata": {},
     "output_type": "execute_result"
    }
   ],
   "source": [
    "x"
   ]
  },
  {
   "cell_type": "code",
   "execution_count": null,
   "metadata": {},
   "outputs": [],
   "source": []
  },
  {
   "cell_type": "code",
   "execution_count": null,
   "metadata": {},
   "outputs": [],
   "source": []
  },
  {
   "cell_type": "code",
   "execution_count": 12,
   "metadata": {},
   "outputs": [
    {
     "data": {
      "text/plain": [
       "4-dimensional Dataset{Float64} with 1001 points\n",
       " 0.499  0.866025  -0.866025  0.499\n",
       " 0.499  0.866025  -0.866025  0.499\n",
       " 0.499  0.866025  -0.866025  0.499\n",
       " 0.499  0.866025  -0.866025  0.499\n",
       " 0.499  0.866025  -0.866025  0.499\n",
       " 0.499  0.866025  -0.866025  0.499\n",
       " 0.499  0.866025  -0.866025  0.499\n",
       " 0.499  0.866025  -0.866025  0.499\n",
       " 0.499  0.866025  -0.866025  0.499\n",
       " 0.499  0.866025  -0.866025  0.499\n",
       " 0.499  0.866025  -0.866025  0.499\n",
       " 0.499  0.866025  -0.866025  0.499\n",
       " 0.499  0.866025  -0.866025  0.499\n",
       " ⋮                           \n",
       " 0.499  0.866025  -0.866025  0.499\n",
       " 0.499  0.866025  -0.866025  0.499\n",
       " 0.499  0.866025  -0.866025  0.499\n",
       " 0.499  0.866025  -0.866025  0.499\n",
       " 0.499  0.866025  -0.866025  0.499\n",
       " 0.499  0.866025  -0.866025  0.499\n",
       " 0.499  0.866025  -0.866025  0.499\n",
       " 0.499  0.866025  -0.866025  0.499\n",
       " 0.499  0.866025  -0.866025  0.499\n",
       " 0.499  0.866025  -0.866025  0.499\n",
       " 0.499  0.866025  -0.866025  0.499\n",
       " 0.499  0.866025  -0.866025  0.499"
      ]
     },
     "execution_count": 12,
     "metadata": {},
     "output_type": "execute_result"
    }
   ],
   "source": [
    "tmax = 10\n",
    "tr = trajectory(r3bp , tmax)"
   ]
  },
  {
   "cell_type": "code",
   "execution_count": 13,
   "metadata": {},
   "outputs": [
    {
     "data": {
      "image/png": "[encoded data removed]",
      "text/plain": [
       "Figure(PyObject <Figure size 640x480 with 1 Axes>)"
      ]
     },
     "metadata": {},
     "output_type": "display_data"
    },
    {
     "data": {
      "text/plain": [
       "1-element Vector{PyCall.PyObject}:\n",
       " PyObject <matplotlib.lines.Line2D object at 0x7fa6963c1280>"
      ]
     },
     "execution_count": 13,
     "metadata": {},
     "output_type": "execute_result"
    }
   ],
   "source": [
    "\n",
    "# trをx成分とy成分にわける\n",
    "tr_x = tr[:, 1]\n",
    "tr_y = tr[:, 2]\n",
    "# plotする\n",
    "plot(tr_x, tr_y, label=\"\")"
   ]
  },
  {
   "cell_type": "code",
   "execution_count": null,
   "metadata": {},
   "outputs": [],
   "source": []
  },
  {
   "cell_type": "code",
   "execution_count": null,
   "metadata": {},
   "outputs": [],
   "source": []
  },
  {
   "cell_type": "code",
   "execution_count": 14,
   "metadata": {},
   "outputs": [
    {
     "data": {
      "text/plain": [
       "100-element Vector{Float64}:\n",
       " 0.93629645803614\n",
       " 0.9363948189177936\n",
       " 0.9364931959736175\n",
       " 0.9365915892097983\n",
       " 0.9366899986325139\n",
       " 0.9367884242479433\n",
       " 0.9368868660622612\n",
       " 0.9369853240816395\n",
       " 0.9370837983122445\n",
       " 0.9371822887602428\n",
       " 0.9372807954317975\n",
       " 0.9373793183330652\n",
       " 0.9374778574701993\n",
       " ⋮\n",
       " 0.9450148014347576\n",
       " 0.945114608960427\n",
       " 0.9452144331919812\n",
       " 0.9453142741353165\n",
       " 0.9454141317963208\n",
       " 0.9455140061808837\n",
       " 0.9456138972948862\n",
       " 0.9457138051442094\n",
       " 0.9458137297347305\n",
       " 0.9459136710723217\n",
       " 0.9460136291628534\n",
       " 0.9461136040121916"
      ]
     },
     "execution_count": 14,
     "metadata": {},
     "output_type": "execute_result"
    }
   ],
   "source": [
    "XX"
   ]
  },
  {
   "cell_type": "code",
   "execution_count": 15,
   "metadata": {},
   "outputs": [
    {
     "data": {
      "text/plain": [
       "201-element Vector{Float64}:\n",
       " 0.489\n",
       " 0.4891\n",
       " 0.4892\n",
       " 0.4893\n",
       " 0.4894\n",
       " 0.4895\n",
       " 0.4896\n",
       " 0.4897\n",
       " 0.4898\n",
       " 0.4899\n",
       " 0.49\n",
       " 0.4901\n",
       " 0.4902\n",
       " ⋮\n",
       " 0.5079\n",
       " 0.508\n",
       " 0.5081\n",
       " 0.5082\n",
       " 0.5083\n",
       " 0.5084\n",
       " 0.5085\n",
       " 0.5086\n",
       " 0.5087\n",
       " 0.5088\n",
       " 0.5089\n",
       " 0.509"
      ]
     },
     "execution_count": 15,
     "metadata": {},
     "output_type": "execute_result"
    }
   ],
   "source": [
    "x"
   ]
  },
  {
   "cell_type": "code",
   "execution_count": null,
   "metadata": {},
   "outputs": [],
   "source": []
  },
  {
   "cell_type": "code",
   "execution_count": null,
   "metadata": {},
   "outputs": [],
   "source": []
  },
  {
   "cell_type": "code",
   "execution_count": null,
   "metadata": {},
   "outputs": [],
   "source": []
  }
 ],
 "metadata": {
  "kernelspec": {
   "display_name": "Julia 1.6.2",
   "language": "julia",
   "name": "julia-1.6"
  },
  "language_info": {
   "file_extension": ".jl",
   "mimetype": "application/julia",
   "name": "julia",
   "version": "1.6.2"
  }
 },
 "nbformat": 4,
 "nbformat_minor": 2
}
