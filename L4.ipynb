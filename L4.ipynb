{
 "cells": [
  {
   "cell_type": "code",
   "execution_count": 1,
   "metadata": {},
   "outputs": [],
   "source": [
    "using DynamicalSystems\n",
    "using PyPlot\n",
    "using NLsolve"
   ]
  },
  {
   "cell_type": "code",
   "execution_count": 2,
   "metadata": {},
   "outputs": [
    {
     "data": {
      "text/plain": [
       "r3bpproblem (generic function with 1 method)"
      ]
     },
     "execution_count": 2,
     "metadata": {},
     "output_type": "execute_result"
    }
   ],
   "source": [
    "function r3bpproblem(u,p,t)\n",
    "    mu = p[1]\n",
    "    du1 = u[3]+u[2]\n",
    "    du2 = u[4]-u[1]\n",
    "    du3=u[4]-(1-mu)*(u[1]+mu)/((u[1]+mu)^2+u[2]^2)^(3/2)-mu*(u[1]+mu-1)/((u[1]+mu-1)^2+u[2]^2)^(3/2)\n",
    "    du4=-u[3]-(1-mu)*u[2]/((u[1]+mu)^2+u[2]^2)^(3/2)-mu*u[2]/((u[1]+mu-1)^2+u[2]^2)^(3/2)\n",
    "    return SVector{4}(du1, du2, du3, du4)\n",
    "end"
   ]
  },
  {
   "cell_type": "code",
   "execution_count": 3,
   "metadata": {},
   "outputs": [
    {
     "data": {
      "text/plain": [
       "4-dimensional continuous dynamical system\n",
       " state:       [0.49, 0.866025, -0.866025, 0.49]\n",
       " rule f:      r3bpproblem\n",
       " in-place?    false\n",
       " jacobian:    ForwardDiff\n",
       " parameters:  [0.01]"
      ]
     },
     "execution_count": 3,
     "metadata": {},
     "output_type": "execute_result"
    }
   ],
   "source": [
    "p=[0.01]\n",
    "u0 = [0.5-p[1], sqrt(3)/2, -sqrt(3)/2, 0.5-p[1]]\n",
    "r3bp = ContinuousDynamicalSystem(r3bpproblem,u0,p)"
   ]
  },
  {
   "cell_type": "code",
   "execution_count": 12,
   "metadata": {},
   "outputs": [
    {
     "data": {
      "text/plain": [
       "-1.5050500000000002"
      ]
     },
     "execution_count": 12,
     "metadata": {},
     "output_type": "execute_result"
    }
   ],
   "source": [
    "E=-3/2+1/2*p[1]-1/2*p[1]^2-0.01"
   ]
  },
  {
   "cell_type": "code",
   "execution_count": 13,
   "metadata": {},
   "outputs": [
    {
     "data": {
      "text/plain": [
       "nls (generic function with 1 method)"
      ]
     },
     "execution_count": 13,
     "metadata": {},
     "output_type": "execute_result"
    }
   ],
   "source": [
    "function nls(func, params...; ini = [0.0])\n",
    "    if typeof(ini) <: Number\n",
    "        r = nlsolve((vout,vin)->vout[1]=func(vin[1],params...), [ini])\n",
    "        v = r.zero[1]\n",
    "    else\n",
    "        r = nlsolve((vout,vin)->vout .= func(vin,params...), ini)\n",
    "        v = r.zero\n",
    "    end\n",
    "    return v, r.f_converged\n",
    "end"
   ]
  },
  {
   "cell_type": "code",
   "execution_count": 14,
   "metadata": {},
   "outputs": [
    {
     "data": {
      "text/plain": [
       "21-element Vector{Float64}:\n",
       " 0.44\n",
       " 0.445\n",
       " 0.45\n",
       " 0.45499999999999996\n",
       " 0.45999999999999996\n",
       " 0.46499999999999997\n",
       " 0.47\n",
       " 0.475\n",
       " 0.48\n",
       " 0.485\n",
       " 0.49\n",
       " 0.495\n",
       " 0.5\n",
       " 0.505\n",
       " 0.51\n",
       " 0.515\n",
       " 0.52\n",
       " 0.525\n",
       " 0.53\n",
       " 0.535\n",
       " 0.54"
      ]
     },
     "execution_count": 14,
     "metadata": {},
     "output_type": "execute_result"
    }
   ],
   "source": [
    "K=10\n",
    "x=[(0.5-p[1])+i/200 for i in -K:K]\n",
    "#3^{-1/3} =.693361274=がL点"
   ]
  },
  {
   "cell_type": "code",
   "execution_count": 15,
   "metadata": {},
   "outputs": [
    {
     "data": {
      "text/plain": [
       "f (generic function with 1 method)"
      ]
     },
     "execution_count": 15,
     "metadata": {},
     "output_type": "execute_result"
    }
   ],
   "source": [
    "f(P, X)=(sqrt(3)/2)^2/2+1/2*P^2-(sqrt(3)/2)^2-X*P-(1-p[1])/((X+p[1])^2+(sqrt(3)/2)^2)^(1/2)-p[1]/((X+p[1]-1)^2+(sqrt(3)/2)^2)^(1/2)-E"
   ]
  },
  {
   "cell_type": "code",
   "execution_count": 19,
   "metadata": {},
   "outputs": [],
   "source": [
    "py=zeros(Float64, K)\n",
    "for i in 1:K\n",
    "    S=nls(f, x[i],ini=0.5+p[1])\n",
    "    py[i]=S[1]\n",
    "end"
   ]
  },
  {
   "cell_type": "code",
   "execution_count": 23,
   "metadata": {},
   "outputs": [
    {
     "data": {
      "image/png": "[encoded data removed]",
      "text/plain": [
       "Figure(PyObject <Figure size 640x480 with 1 Axes>)"
      ]
     },
     "metadata": {},
     "output_type": "display_data"
    }
   ],
   "source": [
    "plane = (2, sqrt(3)/2)\n",
    "d=.2\n",
    "fig = figure()\n",
    "xlim(0.5-p[1]-d, 0.5-p[1]+d)\n",
    "ylim(-sqrt(3)/2-d, -sqrt(3)/2+d)\n",
    "\n",
    "ps=[]\n",
    "for i in 1:K-1\n",
    "    u0=[x[i],sqrt(3)/2,-sqrt(3)/2,py[i]]\n",
    "    psos = poincaresos(r3bp, plane, 1000000.0; u0 = u0)\n",
    "    scatter(psos[:, 1], psos[:, 3], s = 1.0)\n",
    "    scatter(0.5-p[1], -sqrt(3)/2, s = 50.0)\n",
    "end\n",
    "xlabel(\"\\$q_1\\$\"); ylabel(\"\\$p_1\\$\")\n",
    "fig.tight_layout(pad=0.3);"
   ]
  },
  {
   "cell_type": "code",
   "execution_count": null,
   "metadata": {},
   "outputs": [],
   "source": []
  },
  {
   "cell_type": "code",
   "execution_count": null,
   "metadata": {},
   "outputs": [],
   "source": []
  },
  {
   "cell_type": "code",
   "execution_count": null,
   "metadata": {},
   "outputs": [],
   "source": []
  },
  {
   "cell_type": "code",
   "execution_count": null,
   "metadata": {},
   "outputs": [],
   "source": []
  },
  {
   "cell_type": "code",
   "execution_count": null,
   "metadata": {},
   "outputs": [],
   "source": []
  },
  {
   "cell_type": "code",
   "execution_count": null,
   "metadata": {},
   "outputs": [],
   "source": []
  },
  {
   "cell_type": "code",
   "execution_count": null,
   "metadata": {},
   "outputs": [],
   "source": []
  },
  {
   "cell_type": "code",
   "execution_count": null,
   "metadata": {},
   "outputs": [],
   "source": []
  },
  {
   "cell_type": "code",
   "execution_count": null,
   "metadata": {},
   "outputs": [],
   "source": []
  },
  {
   "cell_type": "code",
   "execution_count": null,
   "metadata": {},
   "outputs": [],
   "source": []
  },
  {
   "cell_type": "code",
   "execution_count": null,
   "metadata": {},
   "outputs": [],
   "source": []
  },
  {
   "cell_type": "code",
   "execution_count": null,
   "metadata": {},
   "outputs": [],
   "source": []
  },
  {
   "cell_type": "code",
   "execution_count": null,
   "metadata": {},
   "outputs": [],
   "source": []
  }
 ],
 "metadata": {
  "kernelspec": {
   "display_name": "Julia 1.6.2",
   "language": "julia",
   "name": "julia-1.6"
  },
  "language_info": {
   "file_extension": ".jl",
   "mimetype": "application/julia",
   "name": "julia",
   "version": "1.6.2"
  }
 },
 "nbformat": 4,
 "nbformat_minor": 2
}
